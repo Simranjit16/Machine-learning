{
  "nbformat": 4,
  "nbformat_minor": 0,
  "metadata": {
    "colab": {
      "name": "Img reco",
      "version": "0.3.2",
      "provenance": [],
      "collapsed_sections": [],
      "include_colab_link": true
    },
    "kernelspec": {
      "name": "python3",
      "display_name": "Python 3"
    }
  },
  "cells": [
    {
      "cell_type": "markdown",
      "metadata": {
        "id": "view-in-github",
        "colab_type": "text"
      },
      "source": [
        "<a href=\"https://colab.research.google.com/github/Simranjit16/Machine-learning/blob/SML/Img_reco.ipynb\" target=\"_parent\"><img src=\"https://colab.research.google.com/assets/colab-badge.svg\" alt=\"Open In Colab\"/></a>"
      ]
    },
    {
      "cell_type": "code",
      "metadata": {
        "id": "MaRTjfcIzUJ6",
        "colab_type": "code",
        "colab": {}
      },
      "source": [
        "#loading digit data\n",
        "from sklearn.datasets  import load_digits"
      ],
      "execution_count": 0,
      "outputs": []
    },
    {
      "cell_type": "code",
      "metadata": {
        "id": "-YtjINXIz29l",
        "colab_type": "code",
        "colab": {}
      },
      "source": [
        "digit_data=load_digits()  #loaded data "
      ],
      "execution_count": 0,
      "outputs": []
    },
    {
      "cell_type": "code",
      "metadata": {
        "id": "iUey4M8E0Dx3",
        "colab_type": "code",
        "outputId": "9ad02a13-7781-4cd4-f110-f46e495c1d83",
        "colab": {
          "base_uri": "https://localhost:8080/",
          "height": 34
        }
      },
      "source": [
        "#exploring data\n",
        "dir(digit_data)"
      ],
      "execution_count": 0,
      "outputs": [
        {
          "output_type": "execute_result",
          "data": {
            "text/plain": [
              "['DESCR', 'data', 'images', 'target', 'target_names']"
            ]
          },
          "metadata": {
            "tags": []
          },
          "execution_count": 10
        }
      ]
    },
    {
      "cell_type": "code",
      "metadata": {
        "id": "AHIq7xuM0KgU",
        "colab_type": "code",
        "outputId": "f5a936c7-e78d-43a4-cc84-7f3c308b20d4",
        "colab": {
          "base_uri": "https://localhost:8080/",
          "height": 34
        }
      },
      "source": [
        "# output that we want\n",
        "digit_data.target_names"
      ],
      "execution_count": 0,
      "outputs": [
        {
          "output_type": "execute_result",
          "data": {
            "text/plain": [
              "array([0, 1, 2, 3, 4, 5, 6, 7, 8, 9])"
            ]
          },
          "metadata": {
            "tags": []
          },
          "execution_count": 11
        }
      ]
    },
    {
      "cell_type": "code",
      "metadata": {
        "id": "obi9h0870WVY",
        "colab_type": "code",
        "colab": {}
      },
      "source": [
        "#describing data\n",
        "#digit_data.DESCR"
      ],
      "execution_count": 0,
      "outputs": []
    },
    {
      "cell_type": "code",
      "metadata": {
        "id": "aDfTslPq0dPb",
        "colab_type": "code",
        "colab": {}
      },
      "source": [
        "# training data\n",
        "features=digit_data.data"
      ],
      "execution_count": 0,
      "outputs": []
    },
    {
      "cell_type": "code",
      "metadata": {
        "id": "VAoPjj4o07li",
        "colab_type": "code",
        "outputId": "d1d8147d-97db-4f96-fce3-6fcfffe250f7",
        "colab": {
          "base_uri": "https://localhost:8080/",
          "height": 34
        }
      },
      "source": [
        "#shape\n",
        "features.shape"
      ],
      "execution_count": 0,
      "outputs": [
        {
          "output_type": "execute_result",
          "data": {
            "text/plain": [
              "(1797, 64)"
            ]
          },
          "metadata": {
            "tags": []
          },
          "execution_count": 14
        }
      ]
    },
    {
      "cell_type": "code",
      "metadata": {
        "id": "gQgHDTJE1B1l",
        "colab_type": "code",
        "colab": {}
      },
      "source": [
        "# label\n",
        "label=digit_data.target"
      ],
      "execution_count": 0,
      "outputs": []
    },
    {
      "cell_type": "code",
      "metadata": {
        "id": "M8PqUX051enP",
        "colab_type": "code",
        "outputId": "4d28593d-7e24-4021-ced6-ccb89f8398ed",
        "colab": {
          "base_uri": "https://localhost:8080/",
          "height": 34
        }
      },
      "source": [
        "#  shape of label\n",
        "label.shape"
      ],
      "execution_count": 0,
      "outputs": [
        {
          "output_type": "execute_result",
          "data": {
            "text/plain": [
              "(1797,)"
            ]
          },
          "metadata": {
            "tags": []
          },
          "execution_count": 16
        }
      ]
    },
    {
      "cell_type": "code",
      "metadata": {
        "id": "tFBUcSgK1iaT",
        "colab_type": "code",
        "colab": {}
      },
      "source": [
        "# actual shape\n",
        "images=digit_data.images\n"
      ],
      "execution_count": 0,
      "outputs": []
    },
    {
      "cell_type": "code",
      "metadata": {
        "id": "asS1Qxv01zj9",
        "colab_type": "code",
        "outputId": "7001dde2-be52-4fb9-8d3d-8d415974fec7",
        "colab": {
          "base_uri": "https://localhost:8080/",
          "height": 151
        }
      },
      "source": [
        "images[0]"
      ],
      "execution_count": 0,
      "outputs": [
        {
          "output_type": "execute_result",
          "data": {
            "text/plain": [
              "array([[ 0.,  0.,  5., 13.,  9.,  1.,  0.,  0.],\n",
              "       [ 0.,  0., 13., 15., 10., 15.,  5.,  0.],\n",
              "       [ 0.,  3., 15.,  2.,  0., 11.,  8.,  0.],\n",
              "       [ 0.,  4., 12.,  0.,  0.,  8.,  8.,  0.],\n",
              "       [ 0.,  5.,  8.,  0.,  0.,  9.,  8.,  0.],\n",
              "       [ 0.,  4., 11.,  0.,  1., 12.,  7.,  0.],\n",
              "       [ 0.,  2., 14.,  5., 10., 12.,  0.,  0.],\n",
              "       [ 0.,  0.,  6., 13., 10.,  0.,  0.,  0.]])"
            ]
          },
          "metadata": {
            "tags": []
          },
          "execution_count": 18
        }
      ]
    },
    {
      "cell_type": "code",
      "metadata": {
        "id": "9X9075sk13Rp",
        "colab_type": "code",
        "colab": {}
      },
      "source": [
        "#nnnnnnnnnnnnnnnnnnnnnnnnnnnnnnnnnnnnnnnnnnnnnnnnnnnnnnnnnnnnnnnnnnnnnnnnnnnnnnnnnnnnnnnnnnnnnnnnnnnnnnnnnnnnnnnnnnnnnnnnnnnnnnnnnnnnnnnnnnnnnnnnnnnnnnnnnnnnnnnnnnnnnnnnnnnnnnnnnnnnnnnnnnnnnnnnnnnnnnnnnnnnnnnnnnnnnnnnnnnnnnnnnnnnnnnnnnnnnnnnnnnnnnnnnnnnnnnnnnnnnnnnnnnnnnnnnnnnnnnnnnnnnnnnnnnnnnnnnnnnnnnnnnnnnnnnnnnnnnnnnnnnnnnnnnnnnnnnnnnnnnnnnnnnnnnnnnnnnnnnnnnnnnnnnnnnnnnnnnnnnnnnnnnnnnnnnnnnnnnnnnnnnnnnnnnnnnnnnnnnnnnnnnnnnnnnnnnnnnnnnnnnnnnnnnnnnnnnnnnnnnnnnnnnnnnnnnnnnnnnnnnnnnnnnnnnnnnnnnnnnnnnnnnnnnnnnnnnnnnnnnnnnnnnnnnnnnnnnnnnnnnnnnnnnnnnnnnnnnnnnnnnnnnnnnnnnnnnnnnnnnnnnnnnnnnnnnnnnnnnnnnnnnnnnnnnnnnnnnnnnnnnnnnnnnnnnnnnnnnnnnnnnnnnnnnnnnnnnnnnnnnnnnnnnnnnnnnnnnnnnnnnnnnnnnnnnnnnnnnnnnnnnnnnnnnnnnnnnnnnnnnnnnnnnnnnnnnnnnnnnnnnnnnnnnnnnnnnnnnnnnnnnnnnnnnnnnnnnnnnnnnnnnnnnnnnnnnnnnnnnnnnnnnn\n",
        "import matplotlib.pyplot as plt"
      ],
      "execution_count": 0,
      "outputs": []
    },
    {
      "cell_type": "code",
      "metadata": {
        "id": "U3EtYNxe1-j-",
        "colab_type": "code",
        "outputId": "f0752827-ea7e-410d-910e-bd758b666a4c",
        "colab": {
          "base_uri": "https://localhost:8080/",
          "height": 286
        }
      },
      "source": [
        "plt.imshow(images[5])"
      ],
      "execution_count": 0,
      "outputs": [
        {
          "output_type": "execute_result",
          "data": {
            "text/plain": [
              "<matplotlib.image.AxesImage at 0x7f175d9a3518>"
            ]
          },
          "metadata": {
            "tags": []
          },
          "execution_count": 20
        },
        {
          "output_type": "display_data",
          "data": {
            "image/png": "[encoded data removed]",
            "text/plain": [
              "<Figure size 432x288 with 1 Axes>"
            ]
          },
          "metadata": {
            "tags": []
          }
        }
      ]
    },
    {
      "cell_type": "code",
      "metadata": {
        "id": "-os7h7J72IoK",
        "colab_type": "code",
        "colab": {}
      },
      "source": [
        "# training and testing\n",
        "from sklearn.model_selection  import train_test_split\n",
        "X,x,Y,y=train_test_split(features,label,test_size=0.2)\n",
        "# calling SVC\n",
        "from sklearn.svm  import SVC"
      ],
      "execution_count": 0,
      "outputs": []
    },
    {
      "cell_type": "code",
      "metadata": {
        "id": "DcK4ekd5Po7T",
        "colab_type": "code",
        "colab": {}
      },
      "source": [
        "# calling clf\n",
        "clf = SVC()"
      ],
      "execution_count": 0,
      "outputs": []
    },
    {
      "cell_type": "code",
      "metadata": {
        "id": "Nk9yuHNNP1ax",
        "colab_type": "code",
        "outputId": "6608e04c-76e6-4f92-e32b-470cfc113122",
        "colab": {
          "base_uri": "https://localhost:8080/",
          "height": 70
        }
      },
      "source": [
        "# now trained my clf\n",
        "trained=clf.fit(X,Y)"
      ],
      "execution_count": 0,
      "outputs": [
        {
          "output_type": "stream",
          "text": [
            "/usr/local/lib/python3.6/dist-packages/sklearn/svm/base.py:193: FutureWarning: The default value of gamma will change from 'auto' to 'scale' in version 0.22 to account better for unscaled features. Set gamma explicitly to 'auto' or 'scale' to avoid this warning.\n",
            "  \"avoid this warning.\", FutureWarning)\n"
          ],
          "name": "stderr"
        }
      ]
    },
    {
      "cell_type": "code",
      "metadata": {
        "id": "6c-o6xipP7IL",
        "colab_type": "code",
        "colab": {}
      },
      "source": [
        "# now time for prediction\n",
        "output=trained.predict(x)"
      ],
      "execution_count": 0,
      "outputs": []
    },
    {
      "cell_type": "code",
      "metadata": {
        "id": "SDM4ahh-RntS",
        "colab_type": "code",
        "outputId": "38af3be9-2ff2-4e69-dc3b-6a4c4b861249",
        "colab": {
          "base_uri": "https://localhost:8080/",
          "height": 302
        }
      },
      "source": [
        "# for getting a output\n",
        "output"
      ],
      "execution_count": 0,
      "outputs": [
        {
          "output_type": "execute_result",
          "data": {
            "text/plain": [
              "array([5, 5, 5, 6, 5, 5, 7, 5, 5, 9, 5, 5, 5, 0, 5, 7, 5, 4, 5, 5, 5, 5,\n",
              "       5, 5, 3, 5, 5, 5, 4, 5, 7, 5, 9, 5, 5, 6, 3, 5, 5, 5, 3, 7, 1, 5,\n",
              "       5, 5, 5, 5, 1, 5, 5, 5, 5, 5, 5, 5, 2, 5, 6, 5, 1, 5, 5, 5, 5, 5,\n",
              "       5, 5, 5, 5, 5, 7, 5, 5, 5, 5, 9, 0, 5, 7, 4, 5, 5, 5, 6, 5, 6, 5,\n",
              "       6, 5, 5, 3, 3, 5, 4, 8, 5, 5, 9, 5, 0, 5, 5, 9, 1, 5, 5, 9, 5, 2,\n",
              "       9, 5, 5, 5, 0, 5, 5, 9, 2, 6, 5, 5, 5, 6, 5, 4, 5, 0, 5, 5, 5, 5,\n",
              "       5, 0, 5, 5, 5, 5, 0, 5, 5, 5, 9, 7, 5, 5, 0, 5, 5, 5, 5, 5, 5, 7,\n",
              "       5, 5, 0, 5, 3, 3, 7, 5, 5, 5, 5, 7, 7, 5, 5, 5, 5, 5, 5, 5, 6, 9,\n",
              "       3, 6, 5, 3, 5, 5, 2, 5, 5, 5, 5, 5, 5, 5, 5, 5, 5, 5, 7, 5, 5, 5,\n",
              "       5, 7, 4, 5, 0, 0, 3, 5, 5, 5, 5, 5, 0, 8, 5, 5, 5, 0, 5, 5, 5, 3,\n",
              "       8, 9, 5, 5, 5, 5, 5, 8, 5, 5, 3, 5, 9, 1, 3, 5, 5, 5, 5, 5, 1, 8,\n",
              "       2, 5, 5, 6, 5, 5, 5, 5, 5, 3, 5, 5, 5, 5, 2, 5, 7, 5, 5, 5, 5, 6,\n",
              "       5, 4, 5, 7, 5, 5, 5, 5, 7, 5, 5, 1, 5, 4, 5, 5, 5, 5, 7, 5, 5, 5,\n",
              "       5, 5, 5, 5, 9, 1, 6, 5, 5, 5, 5, 9, 3, 8, 4, 5, 5, 6, 5, 4, 5, 5,\n",
              "       6, 3, 5, 5, 3, 5, 5, 0, 5, 6, 6, 5, 5, 5, 5, 5, 5, 3, 3, 1, 6, 5,\n",
              "       5, 4, 3, 5, 9, 5, 5, 3, 5, 5, 5, 5, 5, 5, 5, 2, 6, 0, 9, 5, 5, 5,\n",
              "       5, 2, 5, 5, 5, 5, 9, 5])"
            ]
          },
          "metadata": {
            "tags": []
          },
          "execution_count": 25
        }
      ]
    },
    {
      "cell_type": "code",
      "metadata": {
        "id": "udd1NkhjRp7n",
        "colab_type": "code",
        "outputId": "0171498b-9644-42c4-ede5-c22da40da7ba",
        "colab": {
          "base_uri": "https://localhost:8080/",
          "height": 34
        }
      },
      "source": [
        "Y\n"
      ],
      "execution_count": 0,
      "outputs": [
        {
          "output_type": "execute_result",
          "data": {
            "text/plain": [
              "array([0, 3, 4, ..., 1, 2, 6])"
            ]
          },
          "metadata": {
            "tags": []
          },
          "execution_count": 26
        }
      ]
    },
    {
      "cell_type": "code",
      "metadata": {
        "id": "Xlj28LJiYgoa",
        "colab_type": "code",
        "outputId": "7d58908a-f81d-4b84-c8c1-921dbba1ec1c",
        "colab": {
          "base_uri": "https://localhost:8080/",
          "height": 302
        }
      },
      "source": [
        "y"
      ],
      "execution_count": 0,
      "outputs": [
        {
          "output_type": "execute_result",
          "data": {
            "text/plain": [
              "array([2, 7, 9, 6, 7, 1, 7, 3, 3, 9, 4, 3, 3, 0, 7, 7, 1, 4, 8, 7, 7, 6,\n",
              "       8, 8, 3, 4, 3, 4, 4, 0, 7, 2, 9, 1, 5, 6, 3, 9, 5, 4, 3, 7, 1, 8,\n",
              "       5, 3, 1, 2, 1, 0, 4, 1, 6, 5, 9, 5, 2, 9, 6, 3, 1, 5, 5, 8, 2, 2,\n",
              "       7, 1, 0, 8, 9, 7, 5, 2, 7, 0, 9, 0, 0, 7, 4, 8, 4, 0, 6, 2, 6, 7,\n",
              "       6, 3, 4, 3, 3, 2, 4, 8, 8, 9, 9, 1, 0, 5, 5, 9, 1, 6, 6, 9, 1, 2,\n",
              "       9, 1, 1, 2, 0, 2, 6, 9, 2, 6, 7, 2, 7, 6, 1, 4, 0, 0, 8, 4, 5, 5,\n",
              "       8, 0, 2, 5, 3, 2, 0, 5, 5, 8, 9, 7, 7, 2, 0, 6, 2, 2, 1, 9, 0, 7,\n",
              "       8, 5, 0, 5, 3, 3, 7, 3, 2, 5, 8, 7, 7, 8, 4, 1, 5, 0, 8, 2, 6, 9,\n",
              "       3, 6, 1, 3, 4, 1, 2, 5, 8, 1, 9, 2, 8, 0, 7, 1, 4, 2, 7, 5, 6, 1,\n",
              "       0, 7, 4, 3, 0, 0, 3, 6, 5, 8, 1, 3, 0, 8, 4, 7, 5, 0, 5, 6, 4, 3,\n",
              "       8, 9, 9, 0, 0, 8, 2, 8, 3, 2, 3, 1, 9, 1, 3, 5, 6, 4, 6, 5, 1, 8,\n",
              "       2, 4, 2, 6, 0, 1, 4, 2, 8, 3, 2, 1, 1, 2, 2, 1, 7, 9, 9, 8, 2, 6,\n",
              "       8, 4, 4, 7, 4, 6, 1, 0, 7, 8, 5, 1, 4, 4, 4, 2, 4, 0, 7, 8, 5, 6,\n",
              "       7, 2, 2, 1, 9, 1, 6, 1, 1, 4, 9, 9, 3, 8, 4, 9, 7, 6, 5, 4, 6, 5,\n",
              "       6, 3, 1, 1, 3, 6, 2, 0, 2, 6, 6, 0, 1, 8, 4, 9, 0, 3, 3, 1, 6, 2,\n",
              "       8, 4, 3, 1, 9, 9, 4, 3, 6, 9, 7, 3, 7, 2, 4, 2, 6, 0, 9, 2, 1, 1,\n",
              "       3, 2, 2, 5, 8, 6, 9, 7])"
            ]
          },
          "metadata": {
            "tags": []
          },
          "execution_count": 27
        }
      ]
    },
    {
      "cell_type": "code",
      "metadata": {
        "id": "TpYUUeh7YiE6",
        "colab_type": "code",
        "colab": {}
      },
      "source": [
        "# cheack accuracy score\n",
        "from sklearn.metrics import accuracy_score"
      ],
      "execution_count": 0,
      "outputs": []
    },
    {
      "cell_type": "code",
      "metadata": {
        "id": "GJKbqe_UYwJo",
        "colab_type": "code",
        "outputId": "030150da-0106-4c99-bdea-f0942a7380e7",
        "colab": {
          "base_uri": "https://localhost:8080/",
          "height": 34
        }
      },
      "source": [
        "accuracy_score(y,output)"
      ],
      "execution_count": 0,
      "outputs": [
        {
          "output_type": "execute_result",
          "data": {
            "text/plain": [
              "0.42777777777777776"
            ]
          },
          "metadata": {
            "tags": []
          },
          "execution_count": 31
        }
      ]
    },
    {
      "cell_type": "code",
      "metadata": {
        "id": "VWGv5LRMZAeP",
        "colab_type": "code",
        "colab": {}
      },
      "source": [
        ""
      ],
      "execution_count": 0,
      "outputs": []
    }
  ]
}