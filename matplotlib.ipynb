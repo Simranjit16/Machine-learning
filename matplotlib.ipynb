{
  "nbformat": 4,
  "nbformat_minor": 0,
  "metadata": {
    "colab": {
      "name": "matplotlib",
      "version": "0.3.2",
      "provenance": [],
      "include_colab_link": true
    },
    "kernelspec": {
      "name": "python3",
      "display_name": "Python 3"
    }
  },
  "cells": [
    {
      "cell_type": "markdown",
      "metadata": {
        "id": "view-in-github",
        "colab_type": "text"
      },
      "source": [
        "<a href=\"https://colab.research.google.com/github/Simranjit16/Machine-learning/blob/master/matplotlib.ipynb\" target=\"_parent\"><img src=\"https://colab.research.google.com/assets/colab-badge.svg\" alt=\"Open In Colab\"/></a>"
      ]
    },
    {
      "cell_type": "code",
      "metadata": {
        "id": "UnqiNAsHT2mh",
        "colab_type": "code",
        "colab": {}
      },
      "source": [
        "import matplotlib as plt"
      ],
      "execution_count": 0,
      "outputs": []
    },
    {
      "cell_type": "code",
      "metadata": {
        "id": "4ZsXJJb7UUJL",
        "colab_type": "code",
        "colab": {}
      },
      "source": [
        "import matplotlib.pyplot as plt"
      ],
      "execution_count": 0,
      "outputs": []
    },
    {
      "cell_type": "code",
      "metadata": {
        "id": "wBWg3BUXUpqp",
        "colab_type": "code",
        "colab": {
          "base_uri": "https://localhost:8080/",
          "height": 286
        },
        "outputId": "a4c1b019-b1d1-4c73-df95-1b6476b4922f"
      },
      "source": [
        "plt.plot()\n"
      ],
      "execution_count": 12,
      "outputs": [
        {
          "output_type": "execute_result",
          "data": {
            "text/plain": [
              "[]"
            ]
          },
          "metadata": {
            "tags": []
          },
          "execution_count": 12
        },
        {
          "output_type": "display_data",
          "data": {
            "image/png": "[encoded data removed]",
            "text/plain": [
              "<Figure size 432x288 with 1 Axes>"
            ]
          },
          "metadata": {
            "tags": []
          }
        }
      ]
    },
    {
      "cell_type": "code",
      "metadata": {
        "id": "W4BDXkR4Uwig",
        "colab_type": "code",
        "colab": {}
      },
      "source": [
        "plt.show()"
      ],
      "execution_count": 0,
      "outputs": []
    },
    {
      "cell_type": "code",
      "metadata": {
        "id": "VNETxvEGU53r",
        "colab_type": "code",
        "colab": {}
      },
      "source": [
        "x=[2,3]"
      ],
      "execution_count": 0,
      "outputs": []
    },
    {
      "cell_type": "code",
      "metadata": {
        "id": "81q96HtbU92k",
        "colab_type": "code",
        "colab": {}
      },
      "source": [
        "y=[9,5]"
      ],
      "execution_count": 0,
      "outputs": []
    },
    {
      "cell_type": "code",
      "metadata": {
        "id": "5H-wdjTsVAfY",
        "colab_type": "code",
        "outputId": "71ba629d-6f49-4eff-d2be-0b8405b1f6b1",
        "colab": {
          "base_uri": "https://localhost:8080/",
          "height": 286
        }
      },
      "source": [
        "plt.plot(x,y)"
      ],
      "execution_count": 17,
      "outputs": [
        {
          "output_type": "execute_result",
          "data": {
            "text/plain": [
              "[<matplotlib.lines.Line2D at 0x7f461e4f49e8>]"
            ]
          },
          "metadata": {
            "tags": []
          },
          "execution_count": 17
        },
        {
          "output_type": "display_data",
          "data": {
            "image/png": "[encoded data removed]",
            "text/plain": [
              "<Figure size 432x288 with 1 Axes>"
            ]
          },
          "metadata": {
            "tags": []
          }
        }
      ]
    },
    {
      "cell_type": "code",
      "metadata": {
        "id": "S2U5IzumVG12",
        "colab_type": "code",
        "colab": {}
      },
      "source": [
        "plt.show()"
      ],
      "execution_count": 0,
      "outputs": []
    },
    {
      "cell_type": "code",
      "metadata": {
        "id": "GK2mYFtdVoOo",
        "colab_type": "code",
        "outputId": "78596e24-0d53-45f6-d49e-f8ac29231d54",
        "colab": {
          "base_uri": "https://localhost:8080/",
          "height": 300
        }
      },
      "source": [
        "plt.xlabel(\"time\")"
      ],
      "execution_count": 19,
      "outputs": [
        {
          "output_type": "execute_result",
          "data": {
            "text/plain": [
              "Text(0.5, 0, 'time')"
            ]
          },
          "metadata": {
            "tags": []
          },
          "execution_count": 19
        },
        {
          "output_type": "display_data",
          "data": {
            "image/png": "[encoded data removed]",
            "text/plain": [
              "<Figure size 432x288 with 1 Axes>"
            ]
          },
          "metadata": {
            "tags": []
          }
        }
      ]
    },
    {
      "cell_type": "code",
      "metadata": {
        "id": "wd-XOPWPVwvx",
        "colab_type": "code",
        "outputId": "0d4eeda0-7815-409f-b901-75d46a3a028a",
        "colab": {
          "base_uri": "https://localhost:8080/",
          "height": 286
        }
      },
      "source": [
        "plt.ylabel(\"speed\")"
      ],
      "execution_count": 20,
      "outputs": [
        {
          "output_type": "execute_result",
          "data": {
            "text/plain": [
              "Text(0, 0.5, 'speed')"
            ]
          },
          "metadata": {
            "tags": []
          },
          "execution_count": 20
        },
        {
          "output_type": "display_data",
          "data": {
            "image/png": "[encoded data removed]",
            "text/plain": [
              "<Figure size 432x288 with 1 Axes>"
            ]
          },
          "metadata": {
            "tags": []
          }
        }
      ]
    },
    {
      "cell_type": "code",
      "metadata": {
        "id": "eiHa0EMIV29a",
        "colab_type": "code",
        "outputId": "895c812c-62d4-4826-a88a-f48708844242",
        "colab": {
          "base_uri": "https://localhost:8080/",
          "height": 286
        }
      },
      "source": [
        "plt.plot(x,y)"
      ],
      "execution_count": 21,
      "outputs": [
        {
          "output_type": "execute_result",
          "data": {
            "text/plain": [
              "[<matplotlib.lines.Line2D at 0x7f461e3832e8>]"
            ]
          },
          "metadata": {
            "tags": []
          },
          "execution_count": 21
        },
        {
          "output_type": "display_data",
          "data": {
            "image/png": "[encoded data removed]",
            "text/plain": [
              "<Figure size 432x288 with 1 Axes>"
            ]
          },
          "metadata": {
            "tags": []
          }
        }
      ]
    },
    {
      "cell_type": "code",
      "metadata": {
        "id": "sS7a0BsBV7hd",
        "colab_type": "code",
        "outputId": "ff8428f1-1fd5-4fa1-b814-5a1dd8e4d31e",
        "colab": {
          "base_uri": "https://localhost:8080/",
          "height": 300
        }
      },
      "source": [
        "x=[2,3]\n",
        "x1=[4,3,8]\n",
        "y1=[2,9,7]\n",
        "y=[9,5]\n",
        "plt.xlabel(\"time\")\n",
        "plt.ylabel(\"speed\")\n",
        "plt.plot(x,y,label=\"water\")\n",
        "plt.plot(x1,y1,label=\"sand\")\n",
        "plt.grid(color='green')\n",
        "plt.bar(x1,y1)\n",
        "plt.bar(x,y)\n",
        "plt.legend\n",
        "plt.xlim(0,12)\n",
        "plt.ylim(0,15)\n",
        "plt.plot(x1,y1)"
      ],
      "execution_count": 22,
      "outputs": [
        {
          "output_type": "execute_result",
          "data": {
            "text/plain": [
              "[<matplotlib.lines.Line2D at 0x7f461e36ab00>]"
            ]
          },
          "metadata": {
            "tags": []
          },
          "execution_count": 22
        },
        {
          "output_type": "display_data",
          "data": {
            "image/png": "[encoded data removed]",
            "text/plain": [
              "<Figure size 432x288 with 1 Axes>"
            ]
          },
          "metadata": {
            "tags": []
          }
        }
      ]
    },
    {
      "cell_type": "code",
      "metadata": {
        "id": "r_awW7pFWRk5",
        "colab_type": "code",
        "colab": {}
      },
      "source": [
        ""
      ],
      "execution_count": 0,
      "outputs": []
    },
    {
      "cell_type": "code",
      "metadata": {
        "id": "Iw-AJWjrWZ0a",
        "colab_type": "code",
        "colab": {}
      },
      "source": [
        ""
      ],
      "execution_count": 0,
      "outputs": []
    },
    {
      "cell_type": "markdown",
      "metadata": {
        "id": "3oS8eePkWb08",
        "colab_type": "text"
      },
      "source": [
        ""
      ]
    },
    {
      "cell_type": "code",
      "metadata": {
        "id": "lxghCB4FDKi8",
        "colab_type": "code",
        "colab": {}
      },
      "source": [
        ""
      ],
      "execution_count": 0,
      "outputs": []
    },
    {
      "cell_type": "code",
      "metadata": {
        "id": "mNwLre00WcwK",
        "colab_type": "code",
        "colab": {}
      },
      "source": [
        "x=[4,7,8,9,11,5]\n",
        "y=[13,23,5,7,6,9]\n",
        "player =['virat','dhoni''vijay','dhawan']\n",
        "runs=[120,44,77,33]"
      ],
      "execution_count": 0,
      "outputs": []
    },
    {
      "cell_type": "code",
      "metadata": {
        "id": "gZFhYqwHB_Oa",
        "colab_type": "code",
        "outputId": "a7ee85fb-6bf4-46b2-a7f9-c2702714e4d6",
        "colab": {
          "base_uri": "https://localhost:8080/",
          "height": 300
        }
      },
      "source": [
        "plt.xlabel('x-axis')\n",
        "plt.ylabel('y-axis')\n",
        "plt\n",
        "plt.plot(x,y)"
      ],
      "execution_count": 24,
      "outputs": [
        {
          "output_type": "execute_result",
          "data": {
            "text/plain": [
              "[<matplotlib.lines.Line2D at 0x7f461e3437b8>]"
            ]
          },
          "metadata": {
            "tags": []
          },
          "execution_count": 24
        },
        {
          "output_type": "display_data",
          "data": {
            "image/png": "[encoded data removed]",
            "text/plain": [
              "<Figure size 432x288 with 1 Axes>"
            ]
          },
          "metadata": {
            "tags": []
          }
        }
      ]
    },
    {
      "cell_type": "code",
      "metadata": {
        "id": "HLFZBsuvESda",
        "colab_type": "code",
        "colab": {}
      },
      "source": [
        "import matplotlib"
      ],
      "execution_count": 0,
      "outputs": []
    },
    {
      "cell_type": "code",
      "metadata": {
        "id": "WDkZGHS3EbHt",
        "colab_type": "code",
        "colab": {}
      },
      "source": [
        "import matplotlib as plt"
      ],
      "execution_count": 0,
      "outputs": []
    },
    {
      "cell_type": "code",
      "metadata": {
        "id": "-xeCoEeYEguD",
        "colab_type": "code",
        "outputId": "3c6451cb-82bf-41b5-a76e-90839a70ba8f",
        "colab": {
          "base_uri": "https://localhost:8080/",
          "height": 1000
        }
      },
      "source": [
        "dir(matplotlib)"
      ],
      "execution_count": 27,
      "outputs": [
        {
          "output_type": "execute_result",
          "data": {
            "text/plain": [
              "['MatplotlibDeprecationWarning',\n",
              " 'MutableMapping',\n",
              " 'Parameter',\n",
              " 'Path',\n",
              " 'RcParams',\n",
              " 'URL_REGEX',\n",
              " 'Verbose',\n",
              " '_DATA_DOC_APPENDIX',\n",
              " '__bibtex__',\n",
              " '__builtins__',\n",
              " '__cached__',\n",
              " '__doc__',\n",
              " '__file__',\n",
              " '__loader__',\n",
              " '__name__',\n",
              " '__package__',\n",
              " '__path__',\n",
              " '__spec__',\n",
              " '__version__',\n",
              " '__version__numpy__',\n",
              " '__warningregistry__',\n",
              " '_add_data_doc',\n",
              " '_all_deprecated',\n",
              " '_cm',\n",
              " '_cm_listed',\n",
              " '_color_data',\n",
              " '_constrained_layout',\n",
              " '_contour',\n",
              " '_create_tmp_config_dir',\n",
              " '_deprecated_ignore_map',\n",
              " '_deprecated_map',\n",
              " '_deprecated_remain_as_none',\n",
              " '_error_details_fmt',\n",
              " '_get_config_or_cache_dir',\n",
              " '_get_data_path',\n",
              " '_get_xdg_cache_dir',\n",
              " '_get_xdg_config_dir',\n",
              " '_image',\n",
              " '_init_tests',\n",
              " '_layoutbox',\n",
              " '_log',\n",
              " '_logged_cached',\n",
              " '_mathtext_data',\n",
              " '_open_file_or_url',\n",
              " '_parse_commandline',\n",
              " '_path',\n",
              " '_png',\n",
              " '_preprocess_data',\n",
              " '_pylab_helpers',\n",
              " '_qhull',\n",
              " '_rc_params_in_file',\n",
              " '_replacer',\n",
              " '_set_logger_verbose_level',\n",
              " '_tri',\n",
              " '_verbose_msg',\n",
              " '_version',\n",
              " 'afm',\n",
              " 'artist',\n",
              " 'atexit',\n",
              " 'axes',\n",
              " 'axis',\n",
              " 'backend_bases',\n",
              " 'backend_tools',\n",
              " 'backends',\n",
              " 'bezier',\n",
              " 'blocking_input',\n",
              " 'category',\n",
              " 'cbook',\n",
              " 'checkdep_dvipng',\n",
              " 'checkdep_ghostscript',\n",
              " 'checkdep_inkscape',\n",
              " 'checkdep_pdftops',\n",
              " 'checkdep_ps_distiller',\n",
              " 'checkdep_usetex',\n",
              " 'cm',\n",
              " 'collections',\n",
              " 'colorbar',\n",
              " 'colors',\n",
              " 'compare_versions',\n",
              " 'container',\n",
              " 'contextlib',\n",
              " 'contour',\n",
              " 'cycler',\n",
              " 'dates',\n",
              " 'dateutil',\n",
              " 'dedent',\n",
              " 'defaultParams',\n",
              " 'default_test_modules',\n",
              " 'distutils',\n",
              " 'docstring',\n",
              " 'dviread',\n",
              " 'figure',\n",
              " 'font_manager',\n",
              " 'fontconfig_pattern',\n",
              " 'ft2font',\n",
              " 'functools',\n",
              " 'get_backend',\n",
              " 'get_cachedir',\n",
              " 'get_configdir',\n",
              " 'get_data_path',\n",
              " 'get_home',\n",
              " 'get_label',\n",
              " 'get_py2exe_datafiles',\n",
              " 'gridspec',\n",
              " 'image',\n",
              " 'importlib',\n",
              " 'inspect',\n",
              " 'interactive',\n",
              " 'io',\n",
              " 'is_interactive',\n",
              " 'is_url',\n",
              " 'legend',\n",
              " 'legend_handler',\n",
              " 'lines',\n",
              " 'locale',\n",
              " 'logging',\n",
              " 'markers',\n",
              " 'mathtext',\n",
              " 'matplotlib_fname',\n",
              " 'mlab',\n",
              " 'mplDeprecation',\n",
              " 'numpy',\n",
              " 'offsetbox',\n",
              " 'os',\n",
              " 'patches',\n",
              " 'path',\n",
              " 'pprint',\n",
              " 'projections',\n",
              " 'pyparsing',\n",
              " 'pyplot',\n",
              " 'quiver',\n",
              " 'rc',\n",
              " 'rcParams',\n",
              " 'rcParamsDefault',\n",
              " 'rcParamsOrig',\n",
              " 'rc_context',\n",
              " 'rc_file',\n",
              " 'rc_file_defaults',\n",
              " 'rc_params',\n",
              " 'rc_params_from_file',\n",
              " 'rcdefaults',\n",
              " 'rcsetup',\n",
              " 're',\n",
              " 'sanitize_sequence',\n",
              " 'scale',\n",
              " 'shutil',\n",
              " 'spines',\n",
              " 'stackplot',\n",
              " 'stat',\n",
              " 'streamplot',\n",
              " 'style',\n",
              " 'subprocess',\n",
              " 'sys',\n",
              " 'table',\n",
              " 'tempfile',\n",
              " 'test',\n",
              " 'texmanager',\n",
              " 'text',\n",
              " 'textpath',\n",
              " 'ticker',\n",
              " 'tight_bbox',\n",
              " 'tight_layout',\n",
              " 'tk_window_focus',\n",
              " 'transforms',\n",
              " 'tri',\n",
              " 'units',\n",
              " 'urllib',\n",
              " 'use',\n",
              " 'validate_backend',\n",
              " 'verbose',\n",
              " 'warnings',\n",
              " 'widgets']"
            ]
          },
          "metadata": {
            "tags": []
          },
          "execution_count": 27
        }
      ]
    },
    {
      "cell_type": "code",
      "metadata": {
        "id": "TXboSHPGElX_",
        "colab_type": "code",
        "outputId": "55f1abf8-e289-4a74-e7b6-d657e84c9811",
        "colab": {
          "base_uri": "https://localhost:8080/",
          "height": 286
        }
      },
      "source": [
        "plt.plot()\n"
      ],
      "execution_count": 28,
      "outputs": [
        {
          "output_type": "execute_result",
          "data": {
            "text/plain": [
              "[]"
            ]
          },
          "metadata": {
            "tags": []
          },
          "execution_count": 28
        },
        {
          "output_type": "display_data",
          "data": {
            "image/png": "[encoded data removed]",
            "text/plain": [
              "<Figure size 432x288 with 1 Axes>"
            ]
          },
          "metadata": {
            "tags": []
          }
        }
      ]
    },
    {
      "cell_type": "code",
      "metadata": {
        "id": "BV8qysU2NWfu",
        "colab_type": "code",
        "colab": {}
      },
      "source": [
        ""
      ],
      "execution_count": 0,
      "outputs": []
    }
  ]
}