{
  "nbformat": 4,
  "nbformat_minor": 0,
  "metadata": {
    "colab": {
      "name": "twitter_sentiment",
      "version": "0.3.2",
      "provenance": [],
      "include_colab_link": true
    },
    "kernelspec": {
      "name": "python3",
      "display_name": "Python 3"
    }
  },
  "cells": [
    {
      "cell_type": "markdown",
      "metadata": {
        "id": "view-in-github",
        "colab_type": "text"
      },
      "source": [
        "<a href=\"https://colab.research.google.com/github/Simranjit16/Machine-learning/blob/SML/twitter_sentiment.ipynb\" target=\"_parent\"><img src=\"https://colab.research.google.com/assets/colab-badge.svg\" alt=\"Open In Colab\"/></a>"
      ]
    },
    {
      "cell_type": "code",
      "metadata": {
        "id": "L5EYUBB_JcwR",
        "colab_type": "code",
        "colab": {}
      },
      "source": [
        "# sudo yum install tweepy\n",
        "import tweepy\n",
        "import matplotlib.pyplot as plt\n",
        "import time\n",
        "from textblob import TextBlob"
      ],
      "execution_count": 0,
      "outputs": []
    },
    {
      "cell_type": "code",
      "metadata": {
        "id": "STEw1JKeK-w-",
        "colab_type": "code",
        "colab": {}
      },
      "source": [
        "# all 4 authentication keys to access twitter API\n",
        "#  to connect as OAth handler jump server / reverse proxy server\n",
        "consumer_key=\"   "\n",
        "consumer_sec=\"   "\n",
        "\n",
        "# from proxy server we need to connect to web server of twitter\n",
        "access_token=\"           "\n",
        "access_sec=\"   ""
      ],
      "execution_count": 0,
      "outputs": []
    },
    {
      "cell_type": "code",
      "metadata": {
        "id": "SKKubYJXPNw9",
        "colab_type": "code",
        "colab": {}
      },
      "source": [
        "# tweet explore\n",
        "#connecting to jump server of twitter\n",
        "auth=tweepy.OAuthHandler(consumer_key,consumer_sec)"
      ],
      "execution_count": 0,
      "outputs": []
    },
    {
      "cell_type": "code",
      "metadata": {
        "id": "YPE15DxOPrNS",
        "colab_type": "code",
        "colab": {}
      },
      "source": [
        "#   now we can connect from jump server to web server of twitter\n",
        "auth.set_access_token(access_token,access_sec)"
      ],
      "execution_count": 0,
      "outputs": []
    },
    {
      "cell_type": "code",
      "metadata": {
        "id": "NzwTFNgiQmR-",
        "colab_type": "code",
        "colab": {}
      },
      "source": [
        "# now we connect to the API storage server of twitter\n",
        "api_connect=tweepy.API(auth)"
      ],
      "execution_count": 0,
      "outputs": []
    },
    {
      "cell_type": "code",
      "metadata": {
        "id": "ivdxIOIeQ4hP",
        "colab_type": "code",
        "colab": {}
      },
      "source": [
        "# now you can search any topic on twitter\n",
        "tweet_data=api_connect.search('adhoc',count=100)"
      ],
      "execution_count": 0,
      "outputs": []
    },
    {
      "cell_type": "code",
      "metadata": {
        "id": "o5FU-td2ROIU",
        "colab_type": "code",
        "outputId": "905ab000-c4d5-431e-d5c8-2b17b9c6b028",
        "colab": {
          "base_uri": "https://localhost:8080/",
          "height": 1000
        }
      },
      "source": [
        "pos=0\n",
        "neg=0\n",
        "neu=0\n",
        "#print line by line\n",
        "for tweet in tweet_data:\n",
        "  #print(tweet.text)\n",
        "  analysis=TextBlob(tweet.text)    # here it will apply NLP\n",
        "  print(analysis.sentiment)\n",
        "  # now cheacking polarity only\n",
        "  if analysis.sentiment.polarity > 0 :\n",
        "    print(\"positive\")\n",
        "    pos=pos+1\n",
        "  elif analysis.sentiment.polarity == 0 :\n",
        "    print(\"neutral\")\n",
        "    neu=neu+1\n",
        "  else :\n",
        "    print(\"negative\")\n",
        "    neg=neg+1\n",
        "    \n",
        "# ploting graph\n",
        "plt.xlabel(\"tags\")\n",
        "plt.ylabel(\"polarity\")\n",
        "plt.bar(['pos','neu','neg'],[pos,neu,neg])\n",
        "plt.show()"
      ],
      "execution_count": 64,
      "outputs": [
        {
          "output_type": "stream",
          "text": [
            "Sentiment(polarity=0.0, subjectivity=0.0)\n",
            "neutral\n",
            "Sentiment(polarity=0.13636363636363635, subjectivity=0.45454545454545453)\n",
            "positive\n",
            "Sentiment(polarity=0.8375, subjectivity=0.9)\n",
            "positive\n",
            "Sentiment(polarity=0.0, subjectivity=0.0)\n",
            "neutral\n",
            "Sentiment(polarity=0.0, subjectivity=0.0)\n",
            "neutral\n",
            "Sentiment(polarity=0.0, subjectivity=0.0)\n",
            "neutral\n",
            "Sentiment(polarity=0.0, subjectivity=0.0)\n",
            "neutral\n",
            "Sentiment(polarity=0.0, subjectivity=0.0)\n",
            "neutral\n",
            "Sentiment(polarity=0.0, subjectivity=0.0)\n",
            "neutral\n",
            "Sentiment(polarity=0.8, subjectivity=1.0)\n",
            "positive\n",
            "Sentiment(polarity=0.0, subjectivity=0.0)\n",
            "neutral\n",
            "Sentiment(polarity=-0.2, subjectivity=0.1)\n",
            "negative\n",
            "Sentiment(polarity=0.0, subjectivity=0.0)\n",
            "neutral\n",
            "Sentiment(polarity=0.0, subjectivity=0.0)\n",
            "neutral\n",
            "Sentiment(polarity=0.0, subjectivity=0.0)\n",
            "neutral\n",
            "Sentiment(polarity=0.0, subjectivity=0.0)\n",
            "neutral\n",
            "Sentiment(polarity=0.0, subjectivity=0.0)\n",
            "neutral\n",
            "Sentiment(polarity=0.0, subjectivity=0.0)\n",
            "neutral\n",
            "Sentiment(polarity=0.0, subjectivity=0.125)\n",
            "neutral\n",
            "Sentiment(polarity=0.0, subjectivity=0.0)\n",
            "neutral\n",
            "Sentiment(polarity=0.0, subjectivity=0.0)\n",
            "neutral\n",
            "Sentiment(polarity=0.5428571428571429, subjectivity=0.7678571428571428)\n",
            "positive\n",
            "Sentiment(polarity=0.15833333333333333, subjectivity=0.625)\n",
            "positive\n",
            "Sentiment(polarity=0.8375, subjectivity=0.9)\n",
            "positive\n",
            "Sentiment(polarity=0.5428571428571429, subjectivity=0.7678571428571428)\n",
            "positive\n",
            "Sentiment(polarity=0.03333333333333333, subjectivity=0.06666666666666667)\n",
            "positive\n",
            "Sentiment(polarity=0.0, subjectivity=0.0)\n",
            "neutral\n",
            "Sentiment(polarity=0.0, subjectivity=0.0)\n",
            "neutral\n",
            "Sentiment(polarity=0.0, subjectivity=0.0)\n",
            "neutral\n",
            "Sentiment(polarity=0.0, subjectivity=0.0)\n",
            "neutral\n",
            "Sentiment(polarity=0.0, subjectivity=0.0)\n",
            "neutral\n",
            "Sentiment(polarity=0.0, subjectivity=0.0)\n",
            "neutral\n",
            "Sentiment(polarity=0.0, subjectivity=0.0)\n",
            "neutral\n",
            "Sentiment(polarity=0.0, subjectivity=0.0)\n",
            "neutral\n",
            "Sentiment(polarity=0.75, subjectivity=0.95)\n",
            "positive\n",
            "Sentiment(polarity=0.0, subjectivity=0.0)\n",
            "neutral\n",
            "Sentiment(polarity=0.0, subjectivity=0.25)\n",
            "neutral\n",
            "Sentiment(polarity=0.0, subjectivity=0.0)\n",
            "neutral\n",
            "Sentiment(polarity=0.0, subjectivity=0.0)\n",
            "neutral\n",
            "Sentiment(polarity=0.0, subjectivity=0.0)\n",
            "neutral\n",
            "Sentiment(polarity=0.0, subjectivity=0.0)\n",
            "neutral\n",
            "Sentiment(polarity=0.0, subjectivity=0.0)\n",
            "neutral\n",
            "Sentiment(polarity=0.46875, subjectivity=1.0)\n",
            "positive\n",
            "Sentiment(polarity=0.0, subjectivity=0.0)\n",
            "neutral\n",
            "Sentiment(polarity=0.0, subjectivity=0.0)\n",
            "neutral\n",
            "Sentiment(polarity=0.0, subjectivity=0.0)\n",
            "neutral\n",
            "Sentiment(polarity=0.0, subjectivity=0.16666666666666666)\n",
            "neutral\n",
            "Sentiment(polarity=0.0, subjectivity=0.0)\n",
            "neutral\n",
            "Sentiment(polarity=0.0, subjectivity=0.0)\n",
            "neutral\n",
            "Sentiment(polarity=-0.25, subjectivity=0.125)\n",
            "negative\n",
            "Sentiment(polarity=0.0, subjectivity=0.0)\n",
            "neutral\n",
            "Sentiment(polarity=0.0, subjectivity=0.0)\n",
            "neutral\n",
            "Sentiment(polarity=0.0, subjectivity=0.0)\n",
            "neutral\n",
            "Sentiment(polarity=0.0, subjectivity=0.0)\n",
            "neutral\n",
            "Sentiment(polarity=0.02083333333333333, subjectivity=0.35416666666666663)\n",
            "positive\n",
            "Sentiment(polarity=0.0, subjectivity=0.0)\n",
            "neutral\n",
            "Sentiment(polarity=0.0, subjectivity=0.0)\n",
            "neutral\n",
            "Sentiment(polarity=0.0, subjectivity=0.0)\n",
            "neutral\n",
            "Sentiment(polarity=0.0, subjectivity=0.0)\n",
            "neutral\n",
            "Sentiment(polarity=-0.6999999999999998, subjectivity=0.6666666666666666)\n",
            "negative\n",
            "Sentiment(polarity=0.0, subjectivity=0.0)\n",
            "neutral\n",
            "Sentiment(polarity=0.0, subjectivity=0.0)\n",
            "neutral\n",
            "Sentiment(polarity=0.0, subjectivity=0.0)\n",
            "neutral\n",
            "Sentiment(polarity=0.0, subjectivity=0.0)\n",
            "neutral\n",
            "Sentiment(polarity=0.0, subjectivity=0.0)\n",
            "neutral\n",
            "Sentiment(polarity=0.0, subjectivity=0.0)\n",
            "neutral\n",
            "Sentiment(polarity=0.0, subjectivity=0.0)\n",
            "neutral\n",
            "Sentiment(polarity=0.0, subjectivity=0.0)\n",
            "neutral\n",
            "Sentiment(polarity=0.0, subjectivity=0.0)\n",
            "neutral\n",
            "Sentiment(polarity=0.0, subjectivity=0.0)\n",
            "neutral\n",
            "Sentiment(polarity=0.0, subjectivity=0.0)\n",
            "neutral\n",
            "Sentiment(polarity=0.0, subjectivity=0.0)\n",
            "neutral\n",
            "Sentiment(polarity=0.0, subjectivity=0.0)\n",
            "neutral\n",
            "Sentiment(polarity=0.0, subjectivity=0.0)\n",
            "neutral\n",
            "Sentiment(polarity=0.0, subjectivity=0.0)\n",
            "neutral\n",
            "Sentiment(polarity=0.0, subjectivity=0.0)\n",
            "neutral\n",
            "Sentiment(polarity=0.0, subjectivity=0.0)\n",
            "neutral\n",
            "Sentiment(polarity=0.0, subjectivity=0.0)\n",
            "neutral\n",
            "Sentiment(polarity=0.0, subjectivity=0.0)\n",
            "neutral\n",
            "Sentiment(polarity=0.8375, subjectivity=0.9)\n",
            "positive\n",
            "Sentiment(polarity=0.0, subjectivity=0.0)\n",
            "neutral\n",
            "Sentiment(polarity=0.0, subjectivity=0.0)\n",
            "neutral\n",
            "Sentiment(polarity=0.0, subjectivity=0.0)\n",
            "neutral\n",
            "Sentiment(polarity=0.8375, subjectivity=0.9)\n",
            "positive\n",
            "Sentiment(polarity=0.0, subjectivity=0.0)\n",
            "neutral\n",
            "Sentiment(polarity=0.0, subjectivity=0.0)\n",
            "neutral\n",
            "Sentiment(polarity=0.0, subjectivity=0.0)\n",
            "neutral\n",
            "Sentiment(polarity=0.0, subjectivity=0.0)\n",
            "neutral\n",
            "Sentiment(polarity=0.4, subjectivity=0.8)\n",
            "positive\n",
            "Sentiment(polarity=0.8375, subjectivity=0.9)\n",
            "positive\n",
            "Sentiment(polarity=0.8375, subjectivity=0.9)\n",
            "positive\n",
            "Sentiment(polarity=0.8375, subjectivity=0.9)\n",
            "positive\n",
            "Sentiment(polarity=0.0, subjectivity=1.0)\n",
            "neutral\n",
            "Sentiment(polarity=0.0, subjectivity=0.0)\n",
            "neutral\n",
            "Sentiment(polarity=0.0, subjectivity=0.0)\n",
            "neutral\n",
            "Sentiment(polarity=0.2, subjectivity=0.2)\n",
            "positive\n",
            "Sentiment(polarity=0.2, subjectivity=0.2)\n",
            "positive\n",
            "Sentiment(polarity=0.8375, subjectivity=0.9)\n",
            "positive\n",
            "Sentiment(polarity=0.0, subjectivity=0.0)\n",
            "neutral\n",
            "Sentiment(polarity=0.5, subjectivity=0.7)\n",
            "positive\n"
          ],
          "name": "stdout"
        },
        {
          "output_type": "display_data",
          "data": {
            "image/png": "iVBORw0KGgoAAAANSUhEUgAAAYIAAAEKCAYAAAAfGVI8AAAABHNCSVQICAgIfAhkiAAAAAlwSFlz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\n",
            "text/plain": [
              "<Figure size 432x288 with 1 Axes>"
            ]
          },
          "metadata": {
            "tags": []
          }
        }
      ]
    },
    {
      "cell_type": "code",
      "metadata": {
        "id": "iEARoEL5R5Ji",
        "colab_type": "code",
        "colab": {}
      },
      "source": [
        "                     "
      ],
      "execution_count": 0,
      "outputs": []
    }
  ]
}
